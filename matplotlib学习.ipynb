{
 "cells": [
  {
   "cell_type": "code",
   "execution_count": 2,
   "metadata": {},
   "outputs": [],
   "source": [
    "import matplotlib.pyplot as plt\n",
    "import numpy as np"
   ]
  },
  {
   "cell_type": "markdown",
   "metadata": {},
   "source": [
    "## 基础用法"
   ]
  },
  {
   "cell_type": "markdown",
   "metadata": {},
   "source": [
    "####  plot()：展示变量的趋势变化"
   ]
  },
  {
   "cell_type": "code",
   "execution_count": null,
   "metadata": {},
   "outputs": [],
   "source": [
    "plt.plot(x, y, c，ls, lw, label, alpha, **kwargs)   "
   ]
  },
  {
   "cell_type": "markdown",
   "metadata": {},
   "source": [
    "          x，y：x，y 轴上的数值\n",
    "          c：设置颜色\n",
    "          ls：折线图的线条风格\n",
    "          lw：折线图的线条宽度\n",
    "          label：标记图形内容的标签文本\n",
    "          alpha：透明度\n",
    "          **kwargs：指定使用的是 line2D 属性"
   ]
  },
  {
   "cell_type": "markdown",
   "metadata": {},
   "source": [
    "#### figure()：背景颜色"
   ]
  },
  {
   "cell_type": "code",
   "execution_count": null,
   "metadata": {},
   "outputs": [],
   "source": [
    "figure(num=None, figsize=None, dpi=None, facecolor=None,\n",
    "edgecolor=None, frameon=True, FigureClass=Figure, clear=False, **kwargs)  \n"
   ]
  },
  {
   "cell_type": "markdown",
   "metadata": {},
   "source": [
    "num ：如果此参数没有提供，则一个新的 figure 对象将被创建，同时增加 figure 的计数数值，此数值被保存在 figure 对象的一个数字属性当中。如果有此参数，且存在对应 id 的 figure 对象，则激活对于 id 的 figure 对象。如果对应 id 的 figur 对象不存在，则创建它并返回它。如果 num 的值是字符串，则将窗口标题设置为此字符串\n",
    "figsize：以英寸为单位的宽高，缺省值为 rc figure.figsize (1 英寸等于 2.54 厘米)\n",
    "dpi：图形分辨率，缺省值为 rc figure.dpi\n",
    "facecolor：背景色 \n",
    "edgecolor："
   ]
  },
  {
   "cell_type": "code",
   "execution_count": 5,
   "metadata": {},
   "outputs": [
    {
     "data": {
      "image/png": "[encoded data removed]",
      "text/plain": [
       "<Figure size 144x144 with 1 Axes>"
      ]
     },
     "metadata": {
      "needs_background": "light"
     },
     "output_type": "display_data"
    }
   ],
   "source": [
    "plt.figure(figsize=(2, 2))\n",
    "x = np.linspace(0.05, 10, 1000)  # 在0.05到10的区间中，等差选取1000个，端点不属于\n",
    "y = np.sin(x)\n",
    "plt.rcParams['font.sans-serif'] = ['SimHei']\n",
    "plt.rcParams['axes.unicode_minus'] = False\n",
    "plt.plot(x, y,\n",
    "         color='red',\n",
    "         ls='-',\n",
    "         label='sinx')\n",
    "plt.show()"
   ]
  },
  {
   "cell_type": "markdown",
   "metadata": {},
   "source": [
    "#### xlim()和 ylim()：设置 x，y 轴的数值显示范围"
   ]
  },
  {
   "cell_type": "markdown",
   "metadata": {},
   "source": [
    "plt.xlim(xmin,xmax)"
   ]
  },
  {
   "cell_type": "markdown",
   "metadata": {},
   "source": [
    "#### xticks(),yticks()获取或设置当前 x 轴或 y 轴刻度位置和标签（即设置 x 或 y 轴的标签）"
   ]
  },
  {
   "cell_type": "markdown",
   "metadata": {},
   "source": [
    "#### xlabel()和 ylabel()：设置 x，y 轴的标签文本"
   ]
  },
  {
   "cell_type": "code",
   "execution_count": null,
   "metadata": {},
   "outputs": [],
   "source": [
    "plt.xlabel(fontsize, verticalalignment, horizontalalignment, rotation, bbox)"
   ]
  },
  {
   "cell_type": "markdown",
   "metadata": {},
   "source": [
    "fontsize：数字或者（small，large，medium）\n",
    "verticalalignment：距离坐标轴的位置（top，bottom，center，baseline）\n",
    "hoizontalalignment：位置（center，right，left）\n",
    "ratation：位置（vertical，horizontal，vertical）\n",
    "bbox：添加边框"
   ]
  },
  {
   "cell_type": "markdown",
   "metadata": {},
   "source": [
    "#### grid()：绘制刻度线的网格线"
   ]
  },
  {
   "cell_type": "code",
   "execution_count": 8,
   "metadata": {
    "scrolled": true
   },
   "outputs": [
    {
     "ename": "NameError",
     "evalue": "name 'linestyle' is not defined",
     "output_type": "error",
     "traceback": [
      "\u001b[1;31m---------------------------------------------------------------------------\u001b[0m",
      "\u001b[1;31mNameError\u001b[0m                                 Traceback (most recent call last)",
      "\u001b[1;32m<ipython-input-8-58a6e8998749>\u001b[0m in \u001b[0;36m<module>\u001b[1;34m\u001b[0m\n\u001b[1;32m----> 1\u001b[1;33m \u001b[0mplt\u001b[0m\u001b[1;33m.\u001b[0m\u001b[0mgrid\u001b[0m\u001b[1;33m(\u001b[0m\u001b[0mlinestyle\u001b[0m\u001b[1;33m,\u001b[0m \u001b[0mcolor\u001b[0m\u001b[1;33m)\u001b[0m\u001b[1;33m\u001b[0m\u001b[1;33m\u001b[0m\u001b[0m\n\u001b[0m",
      "\u001b[1;31mNameError\u001b[0m: name 'linestyle' is not defined"
     ]
    }
   ],
   "source": [
    "plt.grid(linestyle, color)"
   ]
  },
  {
   "cell_type": "markdown",
   "metadata": {},
   "source": [
    "#### axhline()：绘制平行于 x 轴额度水平参考线"
   ]
  },
  {
   "cell_type": "code",
   "execution_count": null,
   "metadata": {},
   "outputs": [],
   "source": [
    "plt.axhline(y, c, ls, lw, label)"
   ]
  },
  {
   "cell_type": "markdown",
   "metadata": {},
   "source": [
    "#### axvspan()：绘制垂直于 x 轴的参考区域"
   ]
  },
  {
   "cell_type": "code",
   "execution_count": null,
   "metadata": {},
   "outputs": [],
   "source": [
    "plt.axvspan( xmin, xmax ,facecolor, alpha)"
   ]
  },
  {
   "cell_type": "markdown",
   "metadata": {},
   "source": [
    "xmin：参考区域的起始位置\n",
    "xmax：参考区域的终止位置\n",
    "facecolor：参考区域的填充颜色\n",
    "alpha：参考区域填充颜色的透明度,[0-1]"
   ]
  },
  {
   "cell_type": "markdown",
   "metadata": {},
   "source": [
    "#### annotate()：添加图形内容细节的指向型注释文本"
   ]
  },
  {
   "cell_type": "code",
   "execution_count": null,
   "metadata": {},
   "outputs": [],
   "source": [
    "plt.annotate()"
   ]
  },
  {
   "cell_type": "markdown",
   "metadata": {},
   "source": [
    "s：注释文本内容\n",
    "\n",
    "xy：被注释的坐标点\n",
    "\n",
    "xytext：注释文字的坐标位置\n",
    "weight：设置字体线形(Ultralight，light，normal，regular，book，medium，roman，semibold，demibold，demi,bold，heavy，extrabold，black）\n",
    "color：设置字体颜色；也可以设置 RGB 或 RGBA 类型的颜色；但必须为[0,1]之间的浮点 数         \n",
    "xycoords= 参数如下\n",
    "     figure points：图左下角的点\n",
    "     figure pixels：图左下角的像素\n",
    "     figure fraction：图的左下部分\n",
    "     axes points：坐标轴左下的点\n",
    "     axes pixels：坐标轴左下的像素\n",
    "     data：使用被注释对象的坐标系统\n",
    "     arrowprops：箭头参数，参数类型为字典 dict\n",
    "     width：箭头的宽度\n",
    "     headwidth：箭头底部以点为单位的宽度\n",
    "     headlength：箭头的长度\n",
    "     shrink：总长度的一部分，从两端“收缩”\n",
    "     facecolor：箭头颜色\n"
   ]
  },
  {
   "cell_type": "markdown",
   "metadata": {},
   "source": [
    "#### legend()：标示不同图形的文本标签图例"
   ]
  },
  {
   "cell_type": "code",
   "execution_count": null,
   "metadata": {},
   "outputs": [],
   "source": [
    "plt.legeng(loc='lower left')"
   ]
  },
  {
   "cell_type": "markdown",
   "metadata": {},
   "source": [
    "图例在图中的地理位置：\n",
    "                        best\n",
    "                        upper right\n",
    "                        upper left\n",
    "                        lower left\n",
    "                        lower right\n",
    "                        right\n",
    "                        center left\n",
    "                        center right\n",
    "                        lower center\n",
    "                        upper center\n",
    "                        center\n"
   ]
  },
  {
   "cell_type": "markdown",
   "metadata": {},
   "source": [
    "#### 显示中文"
   ]
  },
  {
   "cell_type": "code",
   "execution_count": null,
   "metadata": {},
   "outputs": [],
   "source": [
    "plt.rcParams['font.sans-serif'] = ['SimHei']\n",
    "plt.rcParams['axes.unicode_minus'] = False"
   ]
  },
  {
   "cell_type": "markdown",
   "metadata": {},
   "source": [
    "#### 折线图风格"
   ]
  },
  {
   "cell_type": "markdown",
   "metadata": {},
   "source": [
    "   -：实线样式\n",
    "   --：短横线样式\n",
    "   -.：点划线样式\n",
    "   ：：虚线样式\n",
    "    .：点标记\n",
    "    O：圆标记\n",
    "    V：倒三角标记\n",
    "    ^：正三角标记\n",
    "    <：左三角标记\n",
    "    >：右三角表示\n",
    "    1：下箭头标记13\n",
    "    2：上箭头标记\n",
    "    3：左箭头标记\n",
    "    4：右箭头标记\n",
    "    S：正方形标记\n",
    "    p：五边形标记\n",
    "    *：星形标记\n",
    "    H：六边形标记\n",
    "    +：加号标记\n",
    "    X：x 标记\n",
    "    D：菱形标记\n",
    "    |：竖直线标记\n",
    "    _：水平线标记"
   ]
  },
  {
   "cell_type": "markdown",
   "metadata": {},
   "source": [
    "#### 文件保存"
   ]
  },
  {
   "cell_type": "markdown",
   "metadata": {},
   "source": [
    "matlplotlab.pyplot.savefig('filename',dpi=300,facecolor='w',edgecolor='w',transparent=None,bbox_inches=None,)"
   ]
  },
  {
   "cell_type": "markdown",
   "metadata": {},
   "source": [
    "#### 怎么样调节子图之间的水平/垂直间隔"
   ]
  },
  {
   "cell_type": "markdown",
   "metadata": {},
   "source": [
    "fig.subplots_adjust(wspace=0.05)\n",
    "垂直间隔设置hspace参数"
   ]
  },
  {
   "cell_type": "code",
   "execution_count": null,
   "metadata": {},
   "outputs": [],
   "source": []
  }
 ],
 "metadata": {
  "kernelspec": {
   "display_name": "Python 3",
   "language": "python",
   "name": "python3"
  },
  "language_info": {
   "codemirror_mode": {
    "name": "ipython",
    "version": 3
   },
   "file_extension": ".py",
   "mimetype": "text/x-python",
   "name": "python",
   "nbconvert_exporter": "python",
   "pygments_lexer": "ipython3",
   "version": "3.8.5"
  }
 },
 "nbformat": 4,
 "nbformat_minor": 4
}
