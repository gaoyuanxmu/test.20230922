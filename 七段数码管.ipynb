{
 "cells": [
  {
   "cell_type": "code",
   "execution_count": 8,
   "metadata": {},
   "outputs": [],
   "source": [
    "import turtle as t\n",
    "import time\n",
    "def drawgap():\n",
    "    t.penup()\n",
    "    t.fd(5)\n",
    "def drawline(draw):\n",
    "    drawgap()\n",
    "    t.pendown() if draw else t.penup()\n",
    "    t.fd(40)\n",
    "    drawgap()  \n",
    "    t.right(90)\n",
    "def drawdigit(digit):\n",
    "    drawline(True) if digit in [2,3,4,5,6,8,9] else drawline(False)\n",
    "    drawline(True) if digit in [0,1,3,4,5,6,7,8,9] else drawline(False)\n",
    "    drawline(True) if digit in [0,2,3,5,6,8,9] else drawline(False)\n",
    "    drawline(True) if digit in [0,2,6,8] else drawline(False)\n",
    "    t.left(90)\n",
    "    drawline(True) if digit in [0,4,5,6,8,9] else drawline(False)\n",
    "    drawline(True) if digit in [0,2,3,5,6,7,8,9] else drawline(False)\n",
    "    drawline(True) if digit in [0,1,2,3,4,7,8,9] else drawline(False)\n",
    "    t.right(180)\n",
    "    t.penup()\n",
    "    t.fd(20)\n",
    "def drawdate(date):\n",
    "    t.pencolor(\"red\")\n",
    "    for i in date:\n",
    "        if i == '-':\n",
    "            t.write('年',font=(\"Arial\",18,\"normal\"))\n",
    "            t.pencolor(\"green\")\n",
    "            t.fd(40)\n",
    "        elif i == '=':\n",
    "            t.write('月',font=(\"Arial\",18,\"normal\"))\n",
    "            t.pencolor(\"blue\")\n",
    "            t.fd(40)\n",
    "        elif i == '+':\n",
    "            t.write('日',font=(\"Arial\",18,\"normal\"))\n",
    "        else:\n",
    "            drawdigit(eval(i))\n",
    "def main():\n",
    "    t.setup(800,250,200,200)\n",
    "    t.penup()\n",
    "    t.fd(-300)\n",
    "    t.pensize(5)\n",
    "    drawdate(time.strftime('%Y-%m=%d+',time.gmtime()))\n",
    "    t.hideturtle()\n",
    "    t.done\n",
    "    t.bye\n",
    "main()\n"
   ]
  },
  {
   "cell_type": "code",
   "execution_count": null,
   "metadata": {},
   "outputs": [],
   "source": []
  },
  {
   "cell_type": "code",
   "execution_count": null,
   "metadata": {},
   "outputs": [],
   "source": []
  }
 ],
 "metadata": {
  "kernelspec": {
   "display_name": "Python 3",
   "language": "python",
   "name": "python3"
  },
  "language_info": {
   "codemirror_mode": {
    "name": "ipython",
    "version": 3
   },
   "file_extension": ".py",
   "mimetype": "text/x-python",
   "name": "python",
   "nbconvert_exporter": "python",
   "pygments_lexer": "ipython3",
   "version": "3.8.5"
  }
 },
 "nbformat": 4,
 "nbformat_minor": 4
}
