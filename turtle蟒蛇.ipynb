{
 "cells": [
  {
   "cell_type": "code",
   "execution_count": 1,
   "metadata": {
    "scrolled": true
   },
   "outputs": [],
   "source": [
    "import turtle\n",
    "turtle.setup(650,350,200,200)   #设置启动窗体的位置和大小turtle.setup(width,height,startx,starty);后两个参数可选\n",
    "turtle.penup()                 #抬起画笔，不画画\n",
    "turtle.fd(-250)\n",
    "turtle.pendown()            #将画笔原点落到左侧250个像素的位置\n",
    "turtle.pensize(25)\n",
    "turtle.pencolor(\"red\")\n",
    "turtle.seth(-40)\n",
    "for i in range(4):\n",
    "    turtle.circle(40,80)\n",
    "    turtle.circle(-40,80)\n",
    "turtle.circle(40,80/4)\n",
    "turtle.fd(40)\n",
    "turtle.circle(16,180)\n",
    "turtle.fd(40*2.3)\n",
    "turtle.done()                #程序不会自动退出，手动退出\n",
    "\n",
    " \n"
   ]
  },
  {
   "cell_type": "markdown",
   "metadata": {},
   "source": [
    "from turtle import*    #就不用再写turtle.setup()\n",
    "setup(650,350,200,200) \n",
    "penup()"
   ]
  },
  {
   "cell_type": "markdown",
   "metadata": {},
   "source": [
    "import turtle as t    #给库起一个小名，糅合两种方式\n",
    "t.setup(650,350,200,200) \n",
    "t.penup()"
   ]
  },
  {
   "cell_type": "markdown",
   "metadata": {},
   "source": [
    "#### 设置启动窗体的位置和大小turtle.setup(width,height,startx,starty);后两个参数可选，若不指定，则在正中心\n"
   ]
  },
  {
   "cell_type": "markdown",
   "metadata": {},
   "source": [
    "#### 空间坐标系"
   ]
  },
  {
   "cell_type": "code",
   "execution_count": null,
   "metadata": {},
   "outputs": [],
   "source": [
    "goto(0,0)"
   ]
  },
  {
   "cell_type": "markdown",
   "metadata": {},
   "source": [
    "    运动控制函数\n",
    "    turtle.forward(d)或turtle.fd(d) #向海龟向前运动    \n",
    "    turtle.setup(800,400,0,0)\n",
    "    turtle.fd(d) #向海龟的前运动\n",
    "    turtle.bk(d) #向海龟的后运动\n",
    "    turtle.circle(r,extent=None) #circle表示根据半径绘制extent角度的弧形\n",
    " "
   ]
  },
  {
   "cell_type": "markdown",
   "metadata": {},
   "source": [
    "    方向控制函数   控制海龟面对方向分为：绝对角度和海龟\n",
    "    turtle.seth（angle）\n",
    "    seth()改变海龟行进方向，但不行进，angle为绝对度数\n",
    "    turtle.left(angle)\n",
    "    turtle.right(angle)"
   ]
  },
  {
   "cell_type": "markdown",
   "metadata": {},
   "source": [
    "    turtle.colormode(mode)\n",
    "    RGB颜色体系(红绿蓝三种颜色通道)，取值范围0-255整数或0-1间的小数"
   ]
  },
  {
   "cell_type": "markdown",
   "metadata": {},
   "source": [
    "    控制画笔函数                   画笔设置后一直有效，直到下次再次设置\n",
    "    turtle.penup()或者turtle.pu（）       抬起画笔，海龟在飞行\n",
    "    turtle.pendown()或者turtle.pd（）      落下画笔，海龟在爬行\n",
    "    turtle.pensize(width)或者turtle.width(width)  画笔宽度，海龟的腰围\n",
    "    turtle.pencolor(color)            color为颜色字符串或者r,g,b值   \n",
    "    e.g. turtle.pencolor(\"purple\")或者turtle.pencolor(0.63,0.13,0.94)或者turtle.pencolor(（0.63,0.13,0.94)）"
   ]
  },
  {
   "cell_type": "code",
   "execution_count": 8,
   "metadata": {
    "scrolled": true
   },
   "outputs": [],
   "source": [
    "import turtle as t\n",
    "t.setup(500,500)\n",
    "t.penup()\n",
    "t.fd(-250)\n",
    "t.pendown()\n",
    "t.pensize(25)\n",
    "t.pencolor(\"purple\")\n",
    "t.seth(-40)\n",
    "for i in range(4):\n",
    "    t.circle(40 ,80)\n",
    "    t.circle( - 40 ,80)\n",
    "t.circle(40,40)\n",
    "t.fd(40)\n",
    "t.circle(16,180)\n",
    "t.fd(80)"
   ]
  },
  {
   "cell_type": "code",
   "execution_count": null,
   "metadata": {},
   "outputs": [],
   "source": [
    "import turtle as t\n",
    "t.setup(600,600,200,200)\n",
    "t.pensize(2)\n",
    "t.penup()\n",
    "t.fd(-100)\n",
    "t.pendown()\n",
    "for i in range(4):\n",
    "    t.fd(200)\n",
    "    t.left(90)"
   ]
  },
  {
   "cell_type": "code",
   "execution_count": 14,
   "metadata": {
    "scrolled": true
   },
   "outputs": [
    {
     "ename": "Terminator",
     "evalue": "",
     "output_type": "error",
     "traceback": [
      "\u001b[1;31m---------------------------------------------------------------------------\u001b[0m",
      "\u001b[1;31mTerminator\u001b[0m                                Traceback (most recent call last)",
      "\u001b[1;32m<ipython-input-14-35e22a57a4c9>\u001b[0m in \u001b[0;36m<module>\u001b[1;34m\u001b[0m\n\u001b[0;32m     10\u001b[0m     \u001b[0mt\u001b[0m\u001b[1;33m.\u001b[0m\u001b[0mleft\u001b[0m\u001b[1;33m(\u001b[0m\u001b[1;36m60\u001b[0m\u001b[1;33m)\u001b[0m\u001b[1;33m\u001b[0m\u001b[1;33m\u001b[0m\u001b[0m\n\u001b[0;32m     11\u001b[0m \u001b[0mt\u001b[0m\u001b[1;33m.\u001b[0m\u001b[0mdone\u001b[0m\u001b[1;33m(\u001b[0m\u001b[1;33m)\u001b[0m\u001b[1;33m\u001b[0m\u001b[1;33m\u001b[0m\u001b[0m\n\u001b[1;32m---> 12\u001b[1;33m \u001b[0mt\u001b[0m\u001b[1;33m.\u001b[0m\u001b[0mbye\u001b[0m\u001b[1;33m(\u001b[0m\u001b[1;33m)\u001b[0m\u001b[1;33m\u001b[0m\u001b[1;33m\u001b[0m\u001b[0m\n\u001b[0m",
      "\u001b[1;32mE:\\APPLITION1\\Python\\lib\\turtle.py\u001b[0m in \u001b[0;36mbye\u001b[1;34m()\u001b[0m\n",
      "\u001b[1;31mTerminator\u001b[0m: "
     ]
    }
   ],
   "source": [
    "import turtle as t\n",
    "t.setup(600,600,200,100)\n",
    "t.penup()\n",
    "t.fd(-200)\n",
    "t.right(60)\n",
    "t.fd(60)\n",
    "t.pendown()\n",
    "for i in range(6):\n",
    "    t.fd(200)\n",
    "    t.left(60)\n",
    "t.done()\n",
    "t.bye()"
   ]
  },
  {
   "cell_type": "code",
   "execution_count": 20,
   "metadata": {
    "scrolled": true
   },
   "outputs": [
    {
     "ename": "Terminator",
     "evalue": "",
     "output_type": "error",
     "traceback": [
      "\u001b[1;31m---------------------------------------------------------------------------\u001b[0m",
      "\u001b[1;31mTerminator\u001b[0m                                Traceback (most recent call last)",
      "\u001b[1;32m<ipython-input-20-3d5a75e3d482>\u001b[0m in \u001b[0;36m<module>\u001b[1;34m\u001b[0m\n\u001b[0;32m     10\u001b[0m     \u001b[0mt\u001b[0m\u001b[1;33m.\u001b[0m\u001b[0mleft\u001b[0m\u001b[1;33m(\u001b[0m\u001b[1;36m80\u001b[0m\u001b[1;33m)\u001b[0m\u001b[1;33m\u001b[0m\u001b[1;33m\u001b[0m\u001b[0m\n\u001b[0;32m     11\u001b[0m \u001b[0mt\u001b[0m\u001b[1;33m.\u001b[0m\u001b[0mdone\u001b[0m\u001b[1;33m(\u001b[0m\u001b[1;33m)\u001b[0m\u001b[1;33m\u001b[0m\u001b[1;33m\u001b[0m\u001b[0m\n\u001b[1;32m---> 12\u001b[1;33m \u001b[0mt\u001b[0m\u001b[1;33m.\u001b[0m\u001b[0mbye\u001b[0m\u001b[1;33m(\u001b[0m\u001b[1;33m)\u001b[0m\u001b[1;33m\u001b[0m\u001b[1;33m\u001b[0m\u001b[0m\n\u001b[0m",
      "\u001b[1;32mE:\\APPLITION1\\Python\\lib\\turtle.py\u001b[0m in \u001b[0;36mbye\u001b[1;34m()\u001b[0m\n",
      "\u001b[1;31mTerminator\u001b[0m: "
     ]
    }
   ],
   "source": [
    "import turtle as t\n",
    "t.penup()\n",
    "t.fd(-200)\n",
    "t.right(60)\n",
    "t.fd(60)\n",
    "t.left(60)\n",
    "t.pendown()\n",
    "for i in range(9):\n",
    "    t.fd(200)\n",
    "    t.left(80)\n",
    "t.done()\n",
    "t.bye()"
   ]
  },
  {
   "cell_type": "code",
   "execution_count": 19,
   "metadata": {},
   "outputs": [],
   "source": [
    "#TwoRoundDraw.py\n",
    "import turtle as t\n",
    "t.pensize(2)\n",
    "for i in range(9):\n",
    "    t.fd(150)\n",
    "    t.left(80)  #720/9"
   ]
  },
  {
   "cell_type": "code",
   "execution_count": null,
   "metadata": {},
   "outputs": [],
   "source": []
  }
 ],
 "metadata": {
  "kernelspec": {
   "display_name": "Python 3",
   "language": "python",
   "name": "python3"
  },
  "language_info": {
   "codemirror_mode": {
    "name": "ipython",
    "version": 3
   },
   "file_extension": ".py",
   "mimetype": "text/x-python",
   "name": "python",
   "nbconvert_exporter": "python",
   "pygments_lexer": "ipython3",
   "version": "3.8.5"
  }
 },
 "nbformat": 4,
 "nbformat_minor": 4
}
