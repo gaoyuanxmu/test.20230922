{
 "cells": [
  {
   "cell_type": "code",
   "execution_count": null,
   "metadata": {},
   "outputs": [],
   "source": [
    "#Cal.py\n",
    "def getText():\n",
    "    txt = open\"hu.txt\",\"r\".read()\n",
    "    txt = txt.lower\n",
    "    for ch in '!@#$%^&*()_+=-{}[]\\;/.,<>?:\"|`\"':\n",
    "        txt=txt.replace(ch,\" \")\n",
    "    return txt\n"
   ]
  }
 ],
 "metadata": {
  "kernelspec": {
   "display_name": "Python 3",
   "language": "python",
   "name": "python3"
  },
  "language_info": {
   "codemirror_mode": {
    "name": "ipython",
    "version": 3
   },
   "file_extension": ".py",
   "mimetype": "text/x-python",
   "name": "python",
   "nbconvert_exporter": "python",
   "pygments_lexer": "ipython3",
   "version": "3.8.5"
  }
 },
 "nbformat": 4,
 "nbformat_minor": 4
}
